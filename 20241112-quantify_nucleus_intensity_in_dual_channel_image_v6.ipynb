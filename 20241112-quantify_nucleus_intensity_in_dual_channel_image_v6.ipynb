{
 "cells": [
  {
   "cell_type": "markdown",
   "id": "4e7c3c06",
   "metadata": {},
   "source": [
    "# Trace blobs (e.g. nuclei, cells, ...) over the z-axis"
   ]
  },
  {
   "cell_type": "markdown",
   "id": "a06259e5",
   "metadata": {},
   "source": [
    "Code written and conceptualized largely by Nathan De Fruyt (nathan.defruyt@kuleuven.be, nathan.defruyt@gmail.com) with initial leads by Wim Thiels (wim.thiels@kuleuven.be) in the Beets and Jelier labs. \n",
    "\n",
    "The algorithm is simple, but functional for minimal goals:\n",
    "1. **version 3 edit:** instead of blob recognition, I threshold on the percentile of I values (i.e. also intrinsic background correction)\n",
    "1. **version 4 edit:** splitting blobs that are larger than normal (95% percentile?)\n",
    "1. **version 5 edit:** still to figure out splitting, but already 3D image labeling + better thresholding\n",
    "1. **version 6 edit:** segment anything algorithm instead of skimage\n",
    "\n",
    "\n",
    "\n",
    "* next, I deviated from Wim's advice and went on to work with the blob's \n",
    "    1. **center coordinates\n",
    "    1. **mean intensity value\n",
    "    1. **radius** (restricted to 20 pixels, as this appeared to be towards the higher end of nucleus radii -- adapt this!)\n",
    "\n",
    "To this, the program:\n",
    "1. determines **common blob labels** based on how near they are (max displacement of center = 10 pixels in x/y direction, max rise of 5 planes)\n",
    "1. renders one line per blob for the plane with the **highest intensity value**\n",
    "\n",
    "Each step (1. blob identification, 2. blob labelling, 3. summary) are rendered in separate .csv files. \n",
    "Blob identification takes the longest (a few hours for a day of pictures). The subseding steps are fast.\n",
    "\n",
    "**Parameters can therefore be adapted** in the second and third step without consideration. \n",
    "\n",
    "Do think about changing parameters to the first step.\n",
    "\n",
    "___Questions are welcome, optimization of the algorithm too.___"
   ]
  },
  {
   "cell_type": "code",
   "execution_count": 1,
   "id": "e89e3518",
   "metadata": {},
   "outputs": [
    {
     "name": "stdout",
     "output_type": "stream",
     "text": [
      "You indicated that nuclear localisation marker is in the channel 1 of your image\n",
      "\n",
      "\n",
      "Initiating analysis using arguments: \n",
      "\tminimum radius = 10,\n",
      "\tminimum nr. planes = 3\n",
      "\tmaximal radius = 35,\n",
      "\tthreshold = 99.5th percentile,\n",
      "\n",
      "\tbackground is calculated as mean of all values in the 20th percentile\n",
      "\tall objects that have a length/width ratio > 0.6666666666666666 will be split in two\n"
     ]
    }
   ],
   "source": [
    "import sys\n",
    "\n",
    "sigma = 7\n",
    "\n",
    "## for flp-14::gfp\n",
    "# channel = 1\n",
    "# threshold = 99.8\n",
    "\n",
    "# min_radius = 8\n",
    "# min_z_radius = 3\n",
    "# max_radius = 40\n",
    "\n",
    "## for dmsr-3::gfp\n",
    "channel = 1\n",
    "threshold = 99.5\n",
    "\n",
    "min_z_radius = 3\n",
    "min_radius = 10\n",
    "max_radius = 35\n",
    "\n",
    "background_threshold = 20\n",
    "split_ratio = 2/3\n",
    "\n",
    "# threshold, background_threshold, min_radius, max_radius, split_ratio = list(map(float, sys.argv[1:]))\n",
    "print(f'You indicated that nuclear localisation marker is in the channel {channel} of your image\\n\\n')\n",
    "print(f'Initiating analysis using arguments: \\n\\tminimum radius = {min_radius},\\n\\tminimum nr. planes = {min_z_radius}\\n\\tmaximal radius = {max_radius},\\n\\tthreshold = {threshold}th percentile,\\n\\n\\tbackground is calculated as mean of all values in the {background_threshold}th percentile\\n\\tall objects that have a length/width ratio > {split_ratio} will be split in two')"
   ]
  },
  {
   "cell_type": "code",
   "execution_count": 2,
   "id": "e58bbf76",
   "metadata": {},
   "outputs": [],
   "source": [
    "## general math and system modules/functions\n",
    "from math import sqrt, atan, tan, cos, sin\n",
    "import numpy as np\n",
    "import os\n",
    "import glob\n",
    "import itertools\n",
    "import tkinter as tk\n",
    "from tkinter import filedialog\n",
    "from tqdm import tqdm\n",
    "import shutil as sh\n",
    "\n",
    "## parallellization!\n",
    "from multiprocessing import Pool, cpu_count\n",
    "\n",
    "## data formatting!\n",
    "import pandas as pd\n",
    "\n",
    "## image import and processing module functions\n",
    "import czifile as cfile\n",
    "from skimage import data, data, measure, exposure\n",
    "from skimage.measure import label, regionprops_table, regionprops\n",
    "from skimage.morphology import closing\n",
    "from skimage.segmentation import clear_border\n",
    "from skimage.feature import blob_dog, blob_log, blob_doh\n",
    "from skimage.color import rgb2gray\n",
    "from skimage.filters import gaussian, laplace, threshold_otsu\n",
    "import cv2 as cv\n",
    "import PIL\n",
    "import tifffile as tf\n",
    "from scipy.spatial.distance import pdist, squareform\n",
    "\n",
    "import string\n",
    "\n",
    "## plotting modules\n",
    "import plotly\n",
    "import plotly.express as px\n",
    "import matplotlib.pyplot as plt\n",
    "from matplotlib.pyplot import Axes"
   ]
  },
  {
   "cell_type": "markdown",
   "id": "05888dd0",
   "metadata": {},
   "source": [
    "## 1. Find data"
   ]
  },
  {
   "cell_type": "markdown",
   "id": "463ebb3a",
   "metadata": {},
   "source": [
    "First I adapted some existing functions to more easily check and handle data either here in jupyter notebook or to the purpose of an application. "
   ]
  },
  {
   "cell_type": "code",
   "execution_count": 3,
   "id": "a49bd0fd",
   "metadata": {},
   "outputs": [],
   "source": [
    "# some easier to handle functions for reading image data\n",
    "def readczi(filepath, channel):\n",
    "    img = cfile.imread(filepath)\n",
    "    print(f' >>> reading channel {channel} of {img.shape[1]}')\n",
    "    return(img[0, channel-1, :img.shape[2], :img.shape[3], :img.shape[4], 0])"
   ]
  },
  {
   "cell_type": "markdown",
   "id": "3bb10ea9",
   "metadata": {},
   "source": [
    "## 2. Render ___summary___ (mean, max, ...) intensity"
   ]
  },
  {
   "cell_type": "code",
   "execution_count": 4,
   "id": "0076a3d2",
   "metadata": {},
   "outputs": [],
   "source": [
    "def get_img_and_Idf_from_imstack(imstack, sigma, threshold, split_ratio = 2/3):\n",
    "    \n",
    "    ## take laplacian of the gaussian of the image - make sigma wide enough for good smoothing\n",
    "    img_lp = laplace(gaussian(imstack, sigma = sigma))\n",
    "\n",
    "    ## threshold on percentile - very strict, yet slightly permissive threshold of 99.8\n",
    "    thresh = np.percentile(img_lp, threshold)\n",
    "    # otsu = threshold_otsu(img)\n",
    "    img_bw = img_lp > thresh\n",
    "\n",
    "    ## close the edges and label adhering regions\n",
    "    img_cls = closing(img_bw)\n",
    "    img_lbl = label(img_cls)\n",
    "\n",
    "    ## subtract the background from the image (everything that's below the threshold is considered background)\n",
    "    bg = np.mean(img_lp < thresh)\n",
    "    img_bg = imstack - bg\n",
    "    img_bg[img_bg < 0] = 0\n",
    "\n",
    "    ## measure features\n",
    "    Idf = pd.DataFrame(regionprops_table(label_image=img_lbl, intensity_image=img_bg, properties = ('label', 'intensity_mean', 'centroid', 'area')))\n",
    "    \n",
    "    ## relabel columns\n",
    "    Idf = Idf.rename(columns = {'label': \"ID\", 'intensity_mean': \"I\", 'area': \"area\", 'centroid-0': \"z\", 'centroid-1': \"y\", 'centroid-2': \"x\"})\n",
    "    \n",
    "    ## calculate radius\n",
    "    Idf['r'] = list(map(lambda x: np.cbrt(3*x/(4*np.pi)), Idf['area']))\n",
    "#     Idf['ID'] = range(0, len(Idf.index))\n",
    "#     Idf.index = Idf['ID']\n",
    "#     Idf['r'] = (Idf['r_x'] + Idf['r_y'])/2\n",
    "    \n",
    "    return(Idf, img_bg)\n",
    "    "
   ]
  },
  {
   "cell_type": "code",
   "execution_count": 5,
   "id": "2b61dda5",
   "metadata": {},
   "outputs": [],
   "source": [
    "## function to save an image as tiff\n",
    "def save_tiff(filepath, layer, dpi = 600, toplayer_alpha = .2):\n",
    "    if layer == 1 or layer == 'both':\n",
    "        img = readczi(filepath, channel = 1)\n",
    "        mip = (np.log2(np.max(img)) - np.log2(np.max(img, axis = 0)))/np.log2(np.max(img))\n",
    "    if layer == 2 or layer == 'both':\n",
    "        blue = gaussian(readczi(filepath, channel = 2), sigma = 2)\n",
    "        mipb = np.log2(np.max(blue)) - np.log2(np.max(blue, axis = 0))/np.log2(np.max(blue))\n",
    "        print(f' >>> smoothed image')\n",
    "   \n",
    "    if layer == 'both':\n",
    "        ## save composite:\n",
    "        figname = filepath[:-len('.czi')] + '_c.tiff'\n",
    "        fig, axes = plt.subplots(1, 1)\n",
    "\n",
    "        axes.set_axis_off()\n",
    "        plt.imshow(mip, cmap = 'gray')\n",
    "        plt.imshow(mipb, alpha = toplayer_alpha, cmap = 'Purples')\n",
    "\n",
    "        plt.tight_layout()\n",
    "        plt.savefig(figname, dpi = dpi, format = 'tiff', bbox_inches ='tight')\n",
    "        print(f' >>> Saved composite max intensity projection')\n",
    "\n",
    "    if layer == 1 or layer == 'both':\n",
    "        ## save green\n",
    "        figname = filepath[:-len('.czi')] + '_g.tiff'\n",
    "        fig, axes = plt.subplots(1, 1)\n",
    "\n",
    "        axes.set_axis_off()\n",
    "        plt.imshow(mip, cmap = 'gray')\n",
    "\n",
    "        plt.tight_layout()\n",
    "        plt.savefig(figname, dpi = dpi, format = 'tiff', bbox_inches ='tight')\n",
    "        print(f' >>> Saved green max intensity projection')\n",
    "\n",
    "    if layer == 2 or layer == 'both':\n",
    "        ## save blue\n",
    "        figname = filepath[:-len('.czi')] + '_b.tiff'\n",
    "        fig, axes = plt.subplots(1, 1)\n",
    "\n",
    "        axes.set_axis_off()\n",
    "        plt.imshow(mipb, cmap = 'Purples')\n",
    "\n",
    "        plt.tight_layout()\n",
    "        plt.savefig(figname, dpi = dpi, format = 'tiff', bbox_inches ='tight')\n",
    "        print(f' >>> Saved blue max intensity projection')\n"
   ]
  },
  {
   "cell_type": "code",
   "execution_count": 8,
   "id": "737d0104",
   "metadata": {
    "scrolled": true
   },
   "outputs": [
    {
     "name": "stdout",
     "output_type": "stream",
     "text": [
      "# Processing file 1/1 (20230220_PHX6290 cntr_21%_2.czi)\n",
      " >>> reading channel 1 of 1\n",
      " >>> read stack with 99 planes.\n",
      " >>> found 352 nuclei (?) in image stack\n",
      " >>> written objects to disk\n"
     ]
    }
   ],
   "source": [
    "## don't touch this cell!!\n",
    "folder = filedialog.askdirectory()\n",
    "files = glob.glob(folder + '/*.czi')\n",
    "    \n",
    "for i, file in enumerate(files):\n",
    "    ## print so we know that reading the file worked\n",
    "    print(f'# Processing file {i+1}/{len(files)} ({os.path.basename(file)})')\n",
    "    \n",
    "    ## read file\n",
    "    imstack = readczi(file, channel = 1)\n",
    "    print(f' >>> read stack with {imstack.shape[0]} planes.')\n",
    "    \n",
    "    ## fetch blobs from image\n",
    "    df, seq = get_img_and_Idf_from_imstack(imstack, sigma = sigma, threshold = threshold)\n",
    "    print(f' >>> found {df.shape[0]} nuclei (?) in image stack')\n",
    "    \n",
    "    ## save as .csv file\n",
    "    out_filename = folder + '/' + os.path.basename(file)[:-4] + '_objects.csv'\n",
    "    df.to_csv(out_filename)\n",
    "    print(f' >>> written objects to disk')\n",
    "    \n",
    "    ## save max intensity projection\n",
    "#     ### composite\n",
    "#     save_tiff(file, layer = 'both', dpi = 800, toplayer_alpha=.5)\n",
    "#     print(f' >>> Saved composite max intensity projection')\n",
    "#     ### green\n",
    "#     save_tiff(file, layer = 1, dpi = 800)\n",
    "#     print(f' >>> Saved green max intensity projection')\n",
    "#     ### blue\n",
    "#     save_tiff(file, layer = 2, dpi = 800)\n",
    "#     print(f' >>> Saved blue max intensity projection')\n",
    "    "
   ]
  },
  {
   "cell_type": "code",
   "execution_count": 126,
   "id": "55db56e6",
   "metadata": {},
   "outputs": [
    {
     "name": "stdout",
     "output_type": "stream",
     "text": [
      "# Processing file 1/16 (20240820-PXXX_vX-IBE954_21_8.czi)\n",
      " >>> reading channel 1 of 2\n",
      " >>> reading channel 2 of 2\n",
      " >>> smoothed image\n",
      " >>> Saved composite max intensity projection\n",
      " >>> reading channel 1 of 2\n",
      " >>> smoothed image\n",
      " >>> Saved green max intensity projection\n",
      " >>> reading channel 2 of 2\n",
      " >>> smoothed image\n",
      " >>> Saved blue max intensity projection\n",
      "# Processing file 2/16 (20240820-PXXX_vX-IBE954_7_1.czi)\n",
      " >>> reading channel 1 of 2\n",
      " >>> reading channel 2 of 2\n",
      " >>> smoothed image\n",
      " >>> Saved composite max intensity projection\n",
      " >>> reading channel 1 of 2\n",
      " >>> smoothed image\n",
      " >>> Saved green max intensity projection\n",
      " >>> reading channel 2 of 2\n"
     ]
    },
    {
     "ename": "KeyboardInterrupt",
     "evalue": "",
     "output_type": "error",
     "traceback": [
      "\u001b[1;31m---------------------------------------------------------------------------\u001b[0m",
      "\u001b[1;31mKeyboardInterrupt\u001b[0m                         Traceback (most recent call last)",
      "Cell \u001b[1;32mIn[126], line 21\u001b[0m\n\u001b[0;32m     19\u001b[0m \u001b[38;5;28mprint\u001b[39m(\u001b[38;5;124mf\u001b[39m\u001b[38;5;124m'\u001b[39m\u001b[38;5;124m >>> Saved green max intensity projection\u001b[39m\u001b[38;5;124m'\u001b[39m)\n\u001b[0;32m     20\u001b[0m \u001b[38;5;66;03m### blue\u001b[39;00m\n\u001b[1;32m---> 21\u001b[0m \u001b[43msave_tiff\u001b[49m\u001b[43m(\u001b[49m\u001b[43mfile\u001b[49m\u001b[43m,\u001b[49m\u001b[43m \u001b[49m\u001b[43mlayer\u001b[49m\u001b[43m \u001b[49m\u001b[38;5;241;43m=\u001b[39;49m\u001b[43m \u001b[49m\u001b[38;5;241;43m2\u001b[39;49m\u001b[43m,\u001b[49m\u001b[43m \u001b[49m\u001b[43mdpi\u001b[49m\u001b[43m \u001b[49m\u001b[38;5;241;43m=\u001b[39;49m\u001b[43m \u001b[49m\u001b[38;5;241;43m800\u001b[39;49m\u001b[43m)\u001b[49m\n\u001b[0;32m     22\u001b[0m \u001b[38;5;28mprint\u001b[39m(\u001b[38;5;124mf\u001b[39m\u001b[38;5;124m'\u001b[39m\u001b[38;5;124m >>> Saved blue max intensity projection\u001b[39m\u001b[38;5;124m'\u001b[39m)\n",
      "Cell \u001b[1;32mIn[124], line 39\u001b[0m, in \u001b[0;36msave_tiff\u001b[1;34m(filepath, layer, dpi)\u001b[0m\n\u001b[0;32m     36\u001b[0m     plt\u001b[38;5;241m.\u001b[39msavefig(figname, dpi \u001b[38;5;241m=\u001b[39m dpi, \u001b[38;5;28mformat\u001b[39m \u001b[38;5;241m=\u001b[39m \u001b[38;5;124m'\u001b[39m\u001b[38;5;124mtiff\u001b[39m\u001b[38;5;124m'\u001b[39m, bbox_inches \u001b[38;5;241m=\u001b[39m\u001b[38;5;124m'\u001b[39m\u001b[38;5;124mtight\u001b[39m\u001b[38;5;124m'\u001b[39m)\n\u001b[0;32m     38\u001b[0m \u001b[38;5;28;01mif\u001b[39;00m layer \u001b[38;5;241m==\u001b[39m \u001b[38;5;241m2\u001b[39m:\n\u001b[1;32m---> 39\u001b[0m     blue \u001b[38;5;241m=\u001b[39m \u001b[43mgaussian\u001b[49m\u001b[43m(\u001b[49m\u001b[43mreadczi\u001b[49m\u001b[43m(\u001b[49m\u001b[43mfilepath\u001b[49m\u001b[43m,\u001b[49m\u001b[43m \u001b[49m\u001b[43mchannel\u001b[49m\u001b[43m \u001b[49m\u001b[38;5;241;43m=\u001b[39;49m\u001b[43m \u001b[49m\u001b[38;5;241;43m2\u001b[39;49m\u001b[43m)\u001b[49m\u001b[43m,\u001b[49m\u001b[43m \u001b[49m\u001b[43msigma\u001b[49m\u001b[43m \u001b[49m\u001b[38;5;241;43m=\u001b[39;49m\u001b[43m \u001b[49m\u001b[38;5;241;43m2\u001b[39;49m\u001b[43m)\u001b[49m\n\u001b[0;32m     40\u001b[0m     \u001b[38;5;28mprint\u001b[39m(\u001b[38;5;124mf\u001b[39m\u001b[38;5;124m'\u001b[39m\u001b[38;5;124m >>> smoothed image\u001b[39m\u001b[38;5;124m'\u001b[39m)\n\u001b[0;32m     42\u001b[0m     mipb \u001b[38;5;241m=\u001b[39m np\u001b[38;5;241m.\u001b[39mlog2(np\u001b[38;5;241m.\u001b[39mmax(blue)) \u001b[38;5;241m-\u001b[39m np\u001b[38;5;241m.\u001b[39mlog2(np\u001b[38;5;241m.\u001b[39mmax(blue, axis \u001b[38;5;241m=\u001b[39m \u001b[38;5;241m0\u001b[39m))\u001b[38;5;241m/\u001b[39mnp\u001b[38;5;241m.\u001b[39mlog2(np\u001b[38;5;241m.\u001b[39mmax(blue))\n",
      "File \u001b[1;32m~\\miniconda3\\lib\\site-packages\\skimage\\_shared\\utils.py:348\u001b[0m, in \u001b[0;36mdeprecate_multichannel_kwarg.__call__.<locals>.fixed_func\u001b[1;34m(*args, **kwargs)\u001b[0m\n\u001b[0;32m    345\u001b[0m     kwargs[\u001b[38;5;124m'\u001b[39m\u001b[38;5;124mchannel_axis\u001b[39m\u001b[38;5;124m'\u001b[39m] \u001b[38;5;241m=\u001b[39m convert[kwargs\u001b[38;5;241m.\u001b[39mpop(\u001b[38;5;124m'\u001b[39m\u001b[38;5;124mmultichannel\u001b[39m\u001b[38;5;124m'\u001b[39m)]\n\u001b[0;32m    347\u001b[0m \u001b[38;5;66;03m# Call the function with the fixed arguments\u001b[39;00m\n\u001b[1;32m--> 348\u001b[0m \u001b[38;5;28;01mreturn\u001b[39;00m func(\u001b[38;5;241m*\u001b[39margs, \u001b[38;5;241m*\u001b[39m\u001b[38;5;241m*\u001b[39mkwargs)\n",
      "File \u001b[1;32m~\\miniconda3\\lib\\site-packages\\skimage\\_shared\\filters.py:131\u001b[0m, in \u001b[0;36mgaussian\u001b[1;34m(image, sigma, output, mode, cval, multichannel, preserve_range, truncate, channel_axis)\u001b[0m\n\u001b[0;32m    129\u001b[0m         sigma \u001b[38;5;241m=\u001b[39m \u001b[38;5;28mlist\u001b[39m(sigma)\n\u001b[0;32m    130\u001b[0m         sigma\u001b[38;5;241m.\u001b[39minsert(channel_axis \u001b[38;5;241m%\u001b[39m image\u001b[38;5;241m.\u001b[39mndim, \u001b[38;5;241m0\u001b[39m)\n\u001b[1;32m--> 131\u001b[0m image \u001b[38;5;241m=\u001b[39m \u001b[43mconvert_to_float\u001b[49m\u001b[43m(\u001b[49m\u001b[43mimage\u001b[49m\u001b[43m,\u001b[49m\u001b[43m \u001b[49m\u001b[43mpreserve_range\u001b[49m\u001b[43m)\u001b[49m\n\u001b[0;32m    132\u001b[0m float_dtype \u001b[38;5;241m=\u001b[39m _supported_float_type(image\u001b[38;5;241m.\u001b[39mdtype)\n\u001b[0;32m    133\u001b[0m image \u001b[38;5;241m=\u001b[39m image\u001b[38;5;241m.\u001b[39mastype(float_dtype, copy\u001b[38;5;241m=\u001b[39m\u001b[38;5;28;01mFalse\u001b[39;00m)\n",
      "File \u001b[1;32m~\\miniconda3\\lib\\site-packages\\skimage\\_shared\\utils.py:691\u001b[0m, in \u001b[0;36mconvert_to_float\u001b[1;34m(image, preserve_range)\u001b[0m\n\u001b[0;32m    689\u001b[0m \u001b[38;5;28;01melse\u001b[39;00m:\n\u001b[0;32m    690\u001b[0m     \u001b[38;5;28;01mfrom\u001b[39;00m \u001b[38;5;21;01m.\u001b[39;00m\u001b[38;5;21;01m.\u001b[39;00m\u001b[38;5;21;01mutil\u001b[39;00m\u001b[38;5;21;01m.\u001b[39;00m\u001b[38;5;21;01mdtype\u001b[39;00m \u001b[38;5;28;01mimport\u001b[39;00m img_as_float\n\u001b[1;32m--> 691\u001b[0m     image \u001b[38;5;241m=\u001b[39m \u001b[43mimg_as_float\u001b[49m\u001b[43m(\u001b[49m\u001b[43mimage\u001b[49m\u001b[43m)\u001b[49m\n\u001b[0;32m    692\u001b[0m \u001b[38;5;28;01mreturn\u001b[39;00m image\n",
      "File \u001b[1;32m~\\miniconda3\\lib\\site-packages\\skimage\\util\\dtype.py:468\u001b[0m, in \u001b[0;36mimg_as_float\u001b[1;34m(image, force_copy)\u001b[0m\n\u001b[0;32m    442\u001b[0m \u001b[38;5;28;01mdef\u001b[39;00m \u001b[38;5;21mimg_as_float\u001b[39m(image, force_copy\u001b[38;5;241m=\u001b[39m\u001b[38;5;28;01mFalse\u001b[39;00m):\n\u001b[0;32m    443\u001b[0m     \u001b[38;5;124;03m\"\"\"Convert an image to floating point format.\u001b[39;00m\n\u001b[0;32m    444\u001b[0m \n\u001b[0;32m    445\u001b[0m \u001b[38;5;124;03m    This function is similar to `img_as_float64`, but will not convert\u001b[39;00m\n\u001b[1;32m   (...)\u001b[0m\n\u001b[0;32m    466\u001b[0m \n\u001b[0;32m    467\u001b[0m \u001b[38;5;124;03m    \"\"\"\u001b[39;00m\n\u001b[1;32m--> 468\u001b[0m     \u001b[38;5;28;01mreturn\u001b[39;00m \u001b[43m_convert\u001b[49m\u001b[43m(\u001b[49m\u001b[43mimage\u001b[49m\u001b[43m,\u001b[49m\u001b[43m \u001b[49m\u001b[43mnp\u001b[49m\u001b[38;5;241;43m.\u001b[39;49m\u001b[43mfloating\u001b[49m\u001b[43m,\u001b[49m\u001b[43m \u001b[49m\u001b[43mforce_copy\u001b[49m\u001b[43m)\u001b[49m\n",
      "File \u001b[1;32m~\\miniconda3\\lib\\site-packages\\skimage\\util\\dtype.py:319\u001b[0m, in \u001b[0;36m_convert\u001b[1;34m(image, dtype, force_copy, uniform)\u001b[0m\n\u001b[0;32m    313\u001b[0m computation_type \u001b[38;5;241m=\u001b[39m _dtype_itemsize(itemsize_in, dtype_out,\n\u001b[0;32m    314\u001b[0m                                    np\u001b[38;5;241m.\u001b[39mfloat32, np\u001b[38;5;241m.\u001b[39mfloat64)\n\u001b[0;32m    316\u001b[0m \u001b[38;5;28;01mif\u001b[39;00m kind_in \u001b[38;5;241m==\u001b[39m \u001b[38;5;124m'\u001b[39m\u001b[38;5;124mu\u001b[39m\u001b[38;5;124m'\u001b[39m:\n\u001b[0;32m    317\u001b[0m     \u001b[38;5;66;03m# using np.divide or np.multiply doesn't copy the data\u001b[39;00m\n\u001b[0;32m    318\u001b[0m     \u001b[38;5;66;03m# until the computation time\u001b[39;00m\n\u001b[1;32m--> 319\u001b[0m     image \u001b[38;5;241m=\u001b[39m \u001b[43mnp\u001b[49m\u001b[38;5;241;43m.\u001b[39;49m\u001b[43mmultiply\u001b[49m\u001b[43m(\u001b[49m\u001b[43mimage\u001b[49m\u001b[43m,\u001b[49m\u001b[43m \u001b[49m\u001b[38;5;241;43m1.\u001b[39;49m\u001b[43m \u001b[49m\u001b[38;5;241;43m/\u001b[39;49m\u001b[43m \u001b[49m\u001b[43mimax_in\u001b[49m\u001b[43m,\u001b[49m\n\u001b[0;32m    320\u001b[0m \u001b[43m                        \u001b[49m\u001b[43mdtype\u001b[49m\u001b[38;5;241;43m=\u001b[39;49m\u001b[43mcomputation_type\u001b[49m\u001b[43m)\u001b[49m\n\u001b[0;32m    321\u001b[0m     \u001b[38;5;66;03m# DirectX uses this conversion also for signed ints\u001b[39;00m\n\u001b[0;32m    322\u001b[0m     \u001b[38;5;66;03m# if imin_in:\u001b[39;00m\n\u001b[0;32m    323\u001b[0m     \u001b[38;5;66;03m#     np.maximum(image, -1.0, out=image)\u001b[39;00m\n\u001b[0;32m    324\u001b[0m \u001b[38;5;28;01melif\u001b[39;00m kind_in \u001b[38;5;241m==\u001b[39m \u001b[38;5;124m'\u001b[39m\u001b[38;5;124mi\u001b[39m\u001b[38;5;124m'\u001b[39m:\n\u001b[0;32m    325\u001b[0m     \u001b[38;5;66;03m# From DirectX conversions:\u001b[39;00m\n\u001b[0;32m    326\u001b[0m     \u001b[38;5;66;03m# The most negative value maps to -1.0f\u001b[39;00m\n\u001b[0;32m    327\u001b[0m     \u001b[38;5;66;03m# Every other value is converted to a float (call it c)\u001b[39;00m\n\u001b[0;32m    328\u001b[0m     \u001b[38;5;66;03m# and then result = c * (1.0f / (2⁽ⁿ⁻¹⁾-1)).\u001b[39;00m\n",
      "\u001b[1;31mKeyboardInterrupt\u001b[0m: "
     ]
    },
    {
     "name": "stdout",
     "output_type": "stream",
     "text": [
      "Error in callback <function flush_figures at 0x000001ED6B662AF0> (for post_execute), with arguments args (),kwargs {}:\n"
     ]
    },
    {
     "name": "stderr",
     "output_type": "stream",
     "text": [
      "\n",
      "KeyboardInterrupt\n",
      "\n"
     ]
    }
   ],
   "source": [
    "## don't touch this cell!!\n",
    "## >> if you just want the maximum intensity projection\n",
    "sigma = 7\n",
    "threshold = 99.8\n",
    "\n",
    "folder = filedialog.askdirectory()\n",
    "files = glob.glob(folder + '/*.czi')\n",
    "    \n",
    "for i, file in enumerate(files):\n",
    "    ## print so we know that reading the file worked\n",
    "    print(f'# Processing file {i+1}/{len(files)} ({os.path.basename(file)})')\n",
    "    \n",
    "    ## save max intensity projection\n",
    "    ### composite\n",
    "    save_tiff(file, layer = 'both', dpi = 800)\n",
    "    print(f' >>> Saved composite max intensity projection')\n",
    "    ### green\n",
    "    save_tiff(file, layer = 1, dpi = 800)\n",
    "    print(f' >>> Saved green max intensity projection')\n",
    "    ### blue\n",
    "    save_tiff(file, layer = 2, dpi = 800)\n",
    "    print(f' >>> Saved blue max intensity projection')\n",
    "    "
   ]
  },
  {
   "cell_type": "code",
   "execution_count": null,
   "id": "d2d3aee7",
   "metadata": {},
   "outputs": [],
   "source": []
  }
 ],
 "metadata": {
  "kernelspec": {
   "display_name": "opencv-env",
   "language": "python",
   "name": "opencv-env"
  },
  "language_info": {
   "codemirror_mode": {
    "name": "ipython",
    "version": 3
   },
   "file_extension": ".py",
   "mimetype": "text/x-python",
   "name": "python",
   "nbconvert_exporter": "python",
   "pygments_lexer": "ipython3",
   "version": "3.9.16"
  }
 },
 "nbformat": 4,
 "nbformat_minor": 5
}
